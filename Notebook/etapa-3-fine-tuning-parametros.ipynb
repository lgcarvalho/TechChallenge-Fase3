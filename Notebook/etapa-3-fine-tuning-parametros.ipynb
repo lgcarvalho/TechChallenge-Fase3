{
 "cells": [
  {
   "cell_type": "markdown",
   "metadata": {},
   "source": [
    "### ***Importando as bibliotecas***"
   ]
  },
  {
   "cell_type": "code",
   "execution_count": 1,
   "metadata": {},
   "outputs": [
    {
     "name": "stdout",
     "output_type": "stream",
     "text": [
      "Unsloth: Your Flash Attention 2 installation seems to be broken?\n",
      "A possible explanation is you have a new CUDA version which isn't\n",
      "yet compatible with FA2? Please file a ticket to Unsloth or FA2.\n",
      "We shall now use Xformers instead, which does not have any performance hits!\n",
      "We found this negligible impact by benchmarking on 1x A100.\n",
      "🦥 Unsloth: Will patch your computer to enable 2x faster free finetuning.\n"
     ]
    }
   ],
   "source": [
    "import torch\n",
    "import gc\n",
    "from datasets import load_dataset\n",
    "from unsloth import FastLanguageModel, is_bfloat16_supported\n",
    "from trl import SFTTrainer\n",
    "from transformers import TrainingArguments"
   ]
  },
  {
   "cell_type": "markdown",
   "metadata": {},
   "source": [
    "### ***Inicializando o Foundation Model***"
   ]
  },
  {
   "cell_type": "markdown",
   "metadata": {},
   "source": [
    "O Foundation Model escolhido para o treinamento será o **unsloth/tinyllama-bnb-4bit** por conta do tamanho e a utilização da memória. O max_seq_length será utilizado se baseando na quantidade de tokens que retornou na etapa 1."
   ]
  },
  {
   "cell_type": "code",
   "execution_count": 2,
   "metadata": {},
   "outputs": [],
   "source": [
    "max_seq_length = 256 # Choose any! We auto support RoPE Scaling internally!\n",
    "dtype = None # None for auto detection. Float16 for Tesla T4, V100, Bfloat16 for Ampere+\n",
    "load_in_4bit = True # Use 4bit quantization to reduce memory usage. Can be False."
   ]
  },
  {
   "cell_type": "markdown",
   "metadata": {},
   "source": [
    "Foi criado uma função para iniciar o modelo, essa função vai ajudar a limpar a memória caso for necessário carregar o modelo novamente."
   ]
  },
  {
   "cell_type": "code",
   "execution_count": 3,
   "metadata": {},
   "outputs": [],
   "source": [
    "# Inicia o modelo e o tokenizer\n",
    "def iniciar_modelo():\n",
    "    model, tokenizer = FastLanguageModel.from_pretrained(\n",
    "        model_name = \"unsloth/tinyllama-bnb-4bit\",\n",
    "        max_seq_length = max_seq_length,\n",
    "        dtype = dtype,\n",
    "        load_in_4bit = load_in_4bit,\n",
    "    )\n",
    "    \n",
    "    model = FastLanguageModel.get_peft_model(\n",
    "        model,\n",
    "        r = 16, # Choose any number > 0 ! Suggested 8, 16, 32, 64, 128\n",
    "        target_modules = [\"q_proj\", \"k_proj\", \"v_proj\", \"o_proj\",\n",
    "                        \"gate_proj\", \"up_proj\", \"down_proj\",],\n",
    "        lora_alpha = 16,\n",
    "        lora_dropout = 0, # Supports any, but = 0 is optimized\n",
    "        bias = \"none\",    # Supports any, but = \"none\" is optimized\n",
    "        # [NEW] \"unsloth\" uses 30% less VRAM, fits 2x larger batch sizes!\n",
    "        use_gradient_checkpointing = \"unsloth\", # True or \"unsloth\" for very long context\n",
    "        random_state = 3407,\n",
    "        use_rslora = False,  # We support rank stabilized LoRA\n",
    "        loftq_config = None, # And LoftQ\n",
    "    )\n",
    "    \n",
    "    return model, tokenizer"
   ]
  },
  {
   "cell_type": "markdown",
   "metadata": {},
   "source": [
    "### ***Carregando o dataset***"
   ]
  },
  {
   "cell_type": "markdown",
   "metadata": {},
   "source": [
    "Como será apenas a validação dos parâmetros de treinamento vou carregar a parte 1 do meu dataset."
   ]
  },
  {
   "cell_type": "code",
   "execution_count": 4,
   "metadata": {},
   "outputs": [
    {
     "name": "stdout",
     "output_type": "stream",
     "text": [
      "{'uid': ['0385753845', '1603201599', '3836527863', '1883011868', 'B000BQWPTM'], 'title': ['How to Babysit a Grandma', 'The Mayo Clinic Book of Home Remedies: What to Do For The Most Common Health Problems', 'Guts and Glory: The Golden Age of American Football', 'Tennessee Williams: Plays 1937-1955 (Library of America)', 'NGK (6726) BPMR6A Standard Spark Plug, Pack of 1'], 'content': [\"PreS-Gr 2&#x2014;In a companion to Reagan's How to Babysit a Grandpa (Knopf, 2012), a young girl heads over to her grandma's house for a sleepover babysitting session-with the child providing clear and humorous instructions to readers on how to care for a grandma. The to-do list contains many choices for Grandma to select from, including a walk to the park, reading, taking photos, playing dress-up, and adding sugary sprinkles to her meal items. The child wisely allows plenty of time for Grandma to look at the pages while reading a book, peek at the stars, and choose the best spot to sleep. Any grown-up who has calmly been the object of a child's flights of fancy will chuckle at the scenarios, as Grandma, never mugging or rolling her eyes, participates fully and patiently in all of her granddaughter's ideas. The full-color digital art is bright, and sharp-eyed children will delight in the details, including the silly antics of Grandma's dog. While this book breaks no new ground, the charm of its premise and the clear bond between the generations will have kids and grandparents giggling together.&#x2014;Marge Loch-Wouters, La Crosse Public Library, WI\", \"Mayo Clinic is one of the world's oldest and largest multispecialty group practices.  Since 1904, millions of people from all walks of life have found answers at Mayo Clinic.\", 'The photographer:Native New YorkerNeil Leiferbegan photographing sports events as a teenager. Over 160 of his pictures have appeared on the cover ofSports Illustratedand over 40 of his photographs have graced the cover ofTime. He has published 15 books, and was one of two principal photographers in TASCHEN&rsquo;s tribute to Muhammad Ali,GOAT&mdash;Greatest Of All Time.The contributing authors:Jim Murray&#160;was a founding father ofSports Illustrated, and sports columnist for theLos Angeles Timesfor 37 years. Murray was inducted into Cooperstown&rsquo;s Baseball Hall of  Fame writers&rsquo; wing in 1988 and won a Pulitzer Prize for Commentary in  1990. He died in 1998.Sports authorityGabriel Schechter, is the author of five books, most recentlyThis Bad Day in Yankees History.', \"This set collects all of Williams's plays, including the recently rediscovered early efforts Spring Storm and Not About Nightingales up through his most famous works and later lesser-known dramas. These magnificent titles are essential for all academic and public libraries.Copyright 2001 Reed Business Information, Inc.\", 'Stens 130-815 NGK BPMR6A Spark Plug'], 'target_ind': [[4714, 6240, 7087, 7089, 7091, 7097, 7100, 7946, 9939, 9941, 9954, 11204, 11269, 14704, 17422, 17613, 39897, 40299, 40346, 41293, 41548, 41833, 43213, 43517, 43939, 43943, 43955, 45457, 45692, 45821, 45825, 45827, 48058, 48063, 48068, 48073, 48079, 48081, 48093, 48096, 51606, 51632, 51696, 52045, 52135, 52273, 52317, 52623, 52820, 52825, 52844, 52845, 52846, 53139, 53140, 53143, 53145, 53147, 53148, 53149, 53161, 53170, 60970, 60971, 61596, 61682, 61688, 63488, 78880, 82816, 83316, 83322, 83326, 109460, 124563, 125002, 211870, 211871, 295771, 335046, 339849], [8309, 29506, 41027, 41028, 41033, 41034, 47727, 65779, 91805, 93336, 95157, 127967, 128611, 152095, 156352, 162492, 199504, 267876, 269735, 271674, 274350, 288413, 319056, 321343, 321344, 337898, 367005, 374519, 435414, 504857, 504858, 592375], [15968, 61177, 61521, 77160, 81294, 114787, 119365, 121789, 129065, 199503, 260012, 264521, 294203, 395161], [5466, 9280, 17718, 17739, 17743, 17745, 17747, 17807, 20819, 20823, 20854, 22862, 22894, 25713, 30303, 35444, 37618, 38175, 38991, 39182, 42959, 44594, 44645, 44875, 45382, 45387, 45388, 48265, 50863, 57361, 57453, 57456, 57458, 57460, 57463, 57473, 57474, 57478, 57480, 57483, 77124, 81478, 89506, 89514, 89519, 91684, 91698, 101879, 101880, 101884, 131267, 132753, 168992, 173074, 183288, 183292, 187909, 187916, 203189, 204857, 205129, 208021, 208022, 209076, 214871, 223863, 252036, 260340, 261794, 261795, 262462, 262648, 310592, 344035, 364912], [156738, 156749, 156751, 160483, 372858, 501687, 517240, 572939, 572986, 600280, 686077, 688772, 690818, 693427, 699021, 699157, 699158, 699170, 699176, 699441, 700117, 712339, 735717, 747448, 766723, 835853, 874412, 892972, 906584, 906585]], 'target_rel': [[1.0, 1.0, 1.0, 1.0, 1.0, 1.0, 1.0, 1.0, 1.0, 1.0, 1.0, 1.0, 1.0, 1.0, 1.0, 1.0, 1.0, 1.0, 1.0, 1.0, 1.0, 1.0, 1.0, 1.0, 1.0, 1.0, 1.0, 1.0, 1.0, 1.0, 1.0, 1.0, 1.0, 1.0, 1.0, 1.0, 1.0, 1.0, 1.0, 1.0, 1.0, 1.0, 1.0, 1.0, 1.0, 1.0, 1.0, 1.0, 1.0, 1.0, 1.0, 1.0, 1.0, 1.0, 1.0, 1.0, 1.0, 1.0, 1.0, 1.0, 1.0, 1.0, 1.0, 1.0, 1.0, 1.0, 1.0, 1.0, 1.0, 1.0, 1.0, 1.0, 1.0, 1.0, 1.0, 1.0, 1.0, 1.0, 1.0, 1.0, 1.0], [1.0, 1.0, 1.0, 1.0, 1.0, 1.0, 1.0, 1.0, 1.0, 1.0, 1.0, 1.0, 1.0, 1.0, 1.0, 1.0, 1.0, 1.0, 1.0, 1.0, 1.0, 1.0, 1.0, 1.0, 1.0, 1.0, 1.0, 1.0, 1.0, 1.0, 1.0, 1.0], [1.0, 1.0, 1.0, 1.0, 1.0, 1.0, 1.0, 1.0, 1.0, 1.0, 1.0, 1.0, 1.0, 1.0], [1.0, 1.0, 1.0, 1.0, 1.0, 1.0, 1.0, 1.0, 1.0, 1.0, 1.0, 1.0, 1.0, 1.0, 1.0, 1.0, 1.0, 1.0, 1.0, 1.0, 1.0, 1.0, 1.0, 1.0, 1.0, 1.0, 1.0, 1.0, 1.0, 1.0, 1.0, 1.0, 1.0, 1.0, 1.0, 1.0, 1.0, 1.0, 1.0, 1.0, 1.0, 1.0, 1.0, 1.0, 1.0, 1.0, 1.0, 1.0, 1.0, 1.0, 1.0, 1.0, 1.0, 1.0, 1.0, 1.0, 1.0, 1.0, 1.0, 1.0, 1.0, 1.0, 1.0, 1.0, 1.0, 1.0, 1.0, 1.0, 1.0, 1.0, 1.0, 1.0, 1.0, 1.0, 1.0], [1.0, 1.0, 1.0, 1.0, 1.0, 1.0, 1.0, 1.0, 1.0, 1.0, 1.0, 1.0, 1.0, 1.0, 1.0, 1.0, 1.0, 1.0, 1.0, 1.0, 1.0, 1.0, 1.0, 1.0, 1.0, 1.0, 1.0, 1.0, 1.0, 1.0]], 'text': [\"Below is an instruction that describes a task, paired with an input that provides further context. Write a response that appropriately completes the request.\\n\\n### Instruction:\\nGenerate a detailed product description based on the following title:\\n\\n### Input:\\nHow to Babysit a Grandma\\n\\n### Response:\\nPreS-Gr 2&#x2014;In a companion to Reagan's How to Babysit a Grandpa (Knopf, 2012), a young girl heads over to her grandma's house for a sleepover babysitting session-with the child providing clear and humorous instructions to readers on how to care for a grandma. The to-do list contains many choices for Grandma to select from, including a walk to the park, reading, taking photos, playing dress-up, and adding sugary sprinkles to her meal items. The child wisely allows plenty of time for Grandma to look at the pages while reading a book, peek at the stars, and choose the best spot to sleep. Any grown-up who has calmly been the object of a child's flights of fancy will chuckle at the scenarios, as Grandma, never mugging or rolling her eyes, participates fully and patiently in all of her granddaughter's ideas. The full-color digital art is bright, and sharp-eyed children will delight in the details, including the silly antics of Grandma's dog. While this book breaks no new ground, the charm of its premise and the clear bond between the generations will have kids and grandparents giggling together.&#x2014;Marge Loch-Wouters, La Crosse Public Library, WI</s>\", \"Below is an instruction that describes a task, paired with an input that provides further context. Write a response that appropriately completes the request.\\n\\n### Instruction:\\nGenerate a detailed product description based on the following title:\\n\\n### Input:\\nThe Mayo Clinic Book of Home Remedies: What to Do For The Most Common Health Problems\\n\\n### Response:\\nMayo Clinic is one of the world's oldest and largest multispecialty group practices.  Since 1904, millions of people from all walks of life have found answers at Mayo Clinic.</s>\", 'Below is an instruction that describes a task, paired with an input that provides further context. Write a response that appropriately completes the request.\\n\\n### Instruction:\\nGenerate a detailed product description based on the following title:\\n\\n### Input:\\nGuts and Glory: The Golden Age of American Football\\n\\n### Response:\\nThe photographer:Native New YorkerNeil Leiferbegan photographing sports events as a teenager. Over 160 of his pictures have appeared on the cover ofSports Illustratedand over 40 of his photographs have graced the cover ofTime. He has published 15 books, and was one of two principal photographers in TASCHEN&rsquo;s tribute to Muhammad Ali,GOAT&mdash;Greatest Of All Time.The contributing authors:Jim Murray&#160;was a founding father ofSports Illustrated, and sports columnist for theLos Angeles Timesfor 37 years. Murray was inducted into Cooperstown&rsquo;s Baseball Hall of  Fame writers&rsquo; wing in 1988 and won a Pulitzer Prize for Commentary in  1990. He died in 1998.Sports authorityGabriel Schechter, is the author of five books, most recentlyThis Bad Day in Yankees History.</s>', \"Below is an instruction that describes a task, paired with an input that provides further context. Write a response that appropriately completes the request.\\n\\n### Instruction:\\nGenerate a detailed product description based on the following title:\\n\\n### Input:\\nTennessee Williams: Plays 1937-1955 (Library of America)\\n\\n### Response:\\nThis set collects all of Williams's plays, including the recently rediscovered early efforts Spring Storm and Not About Nightingales up through his most famous works and later lesser-known dramas. These magnificent titles are essential for all academic and public libraries.Copyright 2001 Reed Business Information, Inc.</s>\", 'Below is an instruction that describes a task, paired with an input that provides further context. Write a response that appropriately completes the request.\\n\\n### Instruction:\\nGenerate a detailed product description based on the following title:\\n\\n### Input:\\nNGK (6726) BPMR6A Standard Spark Plug, Pack of 1\\n\\n### Response:\\nStens 130-815 NGK BPMR6A Spark Plug</s>']}\n"
     ]
    }
   ],
   "source": [
    "# Caminho do arquivo JSON do dataset de treino\n",
    "caminho_arquivo = './LF-Amazon-1.3M/treino/trn_formatado_parte_1.json'\n",
    "\n",
    "# Carregar o dataset diretamente do arquivo JSON\n",
    "dataset_treino = load_dataset(\"json\", data_files=caminho_arquivo, split=\"train\")\n",
    "\n",
    "# Verificar o dataset carregado\n",
    "print(dataset_treino[:5])"
   ]
  },
  {
   "cell_type": "markdown",
   "metadata": {},
   "source": [
    "Carregando o dataset que será utilizado para avaliar o modelo depois do treinamento."
   ]
  },
  {
   "cell_type": "code",
   "execution_count": 5,
   "metadata": {},
   "outputs": [
    {
     "name": "stdout",
     "output_type": "stream",
     "text": [
      "{'uid': ['B003YI166W', 'B0014DU2QY', 'B00523JL5K', 'B000AOEPMK', '0764599100'], 'title': ['Dreambaby Refrigerator Latch', 'Pacon Classroom Select Pacon Sentence Strip, 3 X 24 in, 1-1/2 in Ruling, 3/4 in Dotted Midline, 1 in Descender Space, Assorted Colors, Pack of 100', 'HTC EVO 3D Accessory - Blossoming Purple Violet Flower Protective Hard Case Cover Design for Sprint 4G', 'The Martha Stewart Holiday Collection - Homemade Holidays', 'Card Games For Dummies'], 'content': ['The Dream Baby Refrigerator Latch helps prevent children from opening fridges or freezers.', 'Pacon Classroom Select Assorted Super Bright Sentence Strip measuring 3 in x 24 in contains 1-1/2 in blue ruling, 3/4 in dotted midline and 1 in descender space. Strip is sold as 100 per pack.', 'Protect your cell phone with our premium Crystal Image case. This accessory provides protection for your cell phone from unnecessary scratch, dent or chips. It is made to fit perfectly and give the phone maximum protection. The hard strong plastic is reinforced from the front edge, side and back to prolong the life of your case. Beside its protection, it also has openings precisely made to access all the function of your phone. Transform your phone into a fashionable and distinctive device in seconds.', \"The Martha Stewart Holiday Collection: Homemade Holidaysis all about the art of making food and decorating for the Christmas or Hanukkah season. Woe be to anyone who views the four very diverse and remarkable Christmas dinner dishes here on an empty stomach: nothing will taste nearly as exciting. British chef Anne Willan drops by Stewart's kitchen to make a hearty, standing rib roast with accompanying Yorkshire pudding&#x97;foods she grew up eating in the farm country north of York. Chef Mario Batali, an expert on foods of Southern Italy, does two segments, one resulting in a fantastic seafood salad (with lobster, calamari, mussels, peppers, and more) and the other an impossibly beautiful baccala ravioli, using fresh-made pasta pillows filled with a mix of baccala and riced potatoes, tossed in Batali's red sauce with a hint of mint. Finally, chef Dan Silverman demonstrates how to remove pomegranate seeds from the fruit without too much hassle, and then add those seeds to an astonishing duck dish.Playful and dazzling desserts include meringue mushrooms, which look just like the real thing, and a Birch de Noel made of chocolate and cream, laid out like a Yuletide log. Household decorating hints are both clever and simple, including the strategic placing of colorful bowls of fruits and candies on shelves, and the embellishing of homemade wreaths with colorful balls (small, pink ones from Japan are oddly magical), candy, and popcorn. A section on Hanukkah gifts and foods includes a nice idea for filling embossed bags with candies, and a variation on traditional potato pancakes that includes adding strips of carrots and parsnips. Suggestions for making gifts and wrapping round out this very pleasant disc.--Tom Keogh\", \"Card Games for Dummiesbills itself as &quot;the fun and easy way  to play and win your favorite card games.&quot; The book is broken down into  different sections that broadly encompass the types of card games available: card-swapping  games (gin and rummy), trick-taking games (whist and euchre), games where you try to score as many points as possible (pinochle), and games where you don't want to score any points at all (hearts). Each chapter starts with the fundamentals--the definition of a &quot;trick,&quot; for example--and builds from there, progressing from the simplest games in each category to the more complex.Written by journalist Barry Rigal,Card Games for Dummiesis a nice companion piece to the more staidComplete Hoyle's Games. UnlikeHoyle's,Card Games for Dummiesnot only explains game mechanics, but gives you useful tips for play, provides the lowdown on strategy, and warns of the boneheaded blunders that you'd undoubtedly make if you'd been taught the rules and nothing more.So if you've always wanted to learn cribbage, but never wanted to ask a friend for a tutorial, this is the book for you. One word of warning: if you want to learn how to play bridge, you won't find much here other than a synopsis of the rules and a recommendation forBridge for Dummies.--Matthew Baldwin--This text refers to an out of print or unavailable edition of this title.\"], 'target_ind': [[42364, 103183, 159103, 182334, 182542, 220571, 220577, 315916, 331983, 397106, 430072, 445773, 452614, 502830, 546974, 564305, 594562, 599899, 697216], [78462, 116173, 137355, 153727, 156066, 211325, 347147, 353289, 353310], [614807, 614813, 614814, 614834, 616017, 616019, 616021, 620628, 622335, 982485, 1169309, 1169314, 1169317, 1169371, 1173610, 1173611, 1173613, 1173615, 1204801, 1218558, 1218559, 1218735, 1218747, 1219889, 1219890, 1219892], [657, 1480, 12456, 12460, 13498, 27633, 44405, 48604, 90716, 101444, 128517, 265584, 265585, 265619, 269221, 270732, 270820, 273898, 374154, 403646], [27292, 27293, 29894, 41573, 74017, 87302, 166143, 212685, 236339, 336634, 336638, 336639, 336649, 363062, 363064, 363637, 375901, 379731, 464633]], 'target_rel': [[1.0, 1.0, 1.0, 1.0, 1.0, 1.0, 1.0, 1.0, 1.0, 1.0, 1.0, 1.0, 1.0, 1.0, 1.0, 1.0, 1.0, 1.0, 1.0], [1.0, 1.0, 1.0, 1.0, 1.0, 1.0, 1.0, 1.0, 1.0], [1.0, 1.0, 1.0, 1.0, 1.0, 1.0, 1.0, 1.0, 1.0, 1.0, 1.0, 1.0, 1.0, 1.0, 1.0, 1.0, 1.0, 1.0, 1.0, 1.0, 1.0, 1.0, 1.0, 1.0, 1.0, 1.0], [1.0, 1.0, 1.0, 1.0, 1.0, 1.0, 1.0, 1.0, 1.0, 1.0, 1.0, 1.0, 1.0, 1.0, 1.0, 1.0, 1.0, 1.0, 1.0, 1.0], [1.0, 1.0, 1.0, 1.0, 1.0, 1.0, 1.0, 1.0, 1.0, 1.0, 1.0, 1.0, 1.0, 1.0, 1.0, 1.0, 1.0, 1.0, 1.0]], 'text': ['Below is an instruction that describes a task, paired with an input that provides further context. Write a response that appropriately completes the request.\\n\\n### Instruction:\\nGenerate a detailed product description based on the following title:\\n\\n### Input:\\nDreambaby Refrigerator Latch\\n\\n### Response:\\nThe Dream Baby Refrigerator Latch helps prevent children from opening fridges or freezers.</s>', 'Below is an instruction that describes a task, paired with an input that provides further context. Write a response that appropriately completes the request.\\n\\n### Instruction:\\nGenerate a detailed product description based on the following title:\\n\\n### Input:\\nPacon Classroom Select Pacon Sentence Strip, 3 X 24 in, 1-1/2 in Ruling, 3/4 in Dotted Midline, 1 in Descender Space, Assorted Colors, Pack of 100\\n\\n### Response:\\nPacon Classroom Select Assorted Super Bright Sentence Strip measuring 3 in x 24 in contains 1-1/2 in blue ruling, 3/4 in dotted midline and 1 in descender space. Strip is sold as 100 per pack.</s>', 'Below is an instruction that describes a task, paired with an input that provides further context. Write a response that appropriately completes the request.\\n\\n### Instruction:\\nGenerate a detailed product description based on the following title:\\n\\n### Input:\\nHTC EVO 3D Accessory - Blossoming Purple Violet Flower Protective Hard Case Cover Design for Sprint 4G\\n\\n### Response:\\nProtect your cell phone with our premium Crystal Image case. This accessory provides protection for your cell phone from unnecessary scratch, dent or chips. It is made to fit perfectly and give the phone maximum protection. The hard strong plastic is reinforced from the front edge, side and back to prolong the life of your case. Beside its protection, it also has openings precisely made to access all the function of your phone. Transform your phone into a fashionable and distinctive device in seconds.</s>', \"Below is an instruction that describes a task, paired with an input that provides further context. Write a response that appropriately completes the request.\\n\\n### Instruction:\\nGenerate a detailed product description based on the following title:\\n\\n### Input:\\nThe Martha Stewart Holiday Collection - Homemade Holidays\\n\\n### Response:\\nThe Martha Stewart Holiday Collection: Homemade Holidaysis all about the art of making food and decorating for the Christmas or Hanukkah season. Woe be to anyone who views the four very diverse and remarkable Christmas dinner dishes here on an empty stomach: nothing will taste nearly as exciting. British chef Anne Willan drops by Stewart's kitchen to make a hearty, standing rib roast with accompanying Yorkshire pudding&#x97;foods she grew up eating in the farm country north of York. Chef Mario Batali, an expert on foods of Southern Italy, does two segments, one resulting in a fantastic seafood salad (with lobster, calamari, mussels, peppers, and more) and the other an impossibly beautiful baccala ravioli, using fresh-made pasta pillows filled with a mix of baccala and riced potatoes, tossed in Batali's red sauce with a hint of mint. Finally, chef Dan Silverman demonstrates how to remove pomegranate seeds from the fruit without too much hassle, and then add those seeds to an astonishing duck dish.Playful and dazzling desserts include meringue mushrooms, which look just like the real thing, and a Birch de Noel made of chocolate and cream, laid out like a Yuletide log. Household decorating hints are both clever and simple, including the strategic placing of colorful bowls of fruits and candies on shelves, and the embellishing of homemade wreaths with colorful balls (small, pink ones from Japan are oddly magical), candy, and popcorn. A section on Hanukkah gifts and foods includes a nice idea for filling embossed bags with candies, and a variation on traditional potato pancakes that includes adding strips of carrots and parsnips. Suggestions for making gifts and wrapping round out this very pleasant disc.--Tom Keogh</s>\", \"Below is an instruction that describes a task, paired with an input that provides further context. Write a response that appropriately completes the request.\\n\\n### Instruction:\\nGenerate a detailed product description based on the following title:\\n\\n### Input:\\nCard Games For Dummies\\n\\n### Response:\\nCard Games for Dummiesbills itself as &quot;the fun and easy way  to play and win your favorite card games.&quot; The book is broken down into  different sections that broadly encompass the types of card games available: card-swapping  games (gin and rummy), trick-taking games (whist and euchre), games where you try to score as many points as possible (pinochle), and games where you don't want to score any points at all (hearts). Each chapter starts with the fundamentals--the definition of a &quot;trick,&quot; for example--and builds from there, progressing from the simplest games in each category to the more complex.Written by journalist Barry Rigal,Card Games for Dummiesis a nice companion piece to the more staidComplete Hoyle's Games. UnlikeHoyle's,Card Games for Dummiesnot only explains game mechanics, but gives you useful tips for play, provides the lowdown on strategy, and warns of the boneheaded blunders that you'd undoubtedly make if you'd been taught the rules and nothing more.So if you've always wanted to learn cribbage, but never wanted to ask a friend for a tutorial, this is the book for you. One word of warning: if you want to learn how to play bridge, you won't find much here other than a synopsis of the rules and a recommendation forBridge for Dummies.--Matthew Baldwin--This text refers to an out of print or unavailable edition of this title.</s>\"]}\n"
     ]
    }
   ],
   "source": [
    "# Caminho do arquivo JSON do dataset de teste\n",
    "caminho_arquivo = './LF-Amazon-1.3M/teste/tst_formatado.json'\n",
    "\n",
    "# Carregar o dataset diretamente do arquivo JSON\n",
    "dataset_teste = load_dataset(\"json\", data_files=caminho_arquivo, split=\"train\")\n",
    "\n",
    "print(dataset_teste[:5])"
   ]
  },
  {
   "cell_type": "markdown",
   "metadata": {},
   "source": [
    "### ***Fine Tuning***"
   ]
  },
  {
   "cell_type": "markdown",
   "metadata": {},
   "source": [
    "Foi criado uma função para treinar o modelo, a função consiste nos seguintes passos:\n",
    "\n",
    "**1.** Limpeza de memória.\n",
    "\n",
    "- É realizado uma limpeza na memória para o modelo que será carregado.\n",
    "\n",
    "**2.** Inicialização do modelo.\n",
    "\n",
    "- Utilizando a função criada acima é realizado a inicialização do modelo e tokenizer.\n",
    "\n",
    "**3.** Criação do *trainer*.\n",
    "\n",
    "- É feito a criação do *trainer* passando os parâmetros do modelo e tokenizer criados, dataset de treino e avaliação, o campo que será utilizado para treino, o *max_seq_length* setado no inicio, o *dataset_num_proc* de 8 e os argumentos de treinamento.\n",
    "- Foi utilizado um *dataset_num_proc* de 8 por ser o valor mais alto que minha CPU aguentou, com isso fazendo um processamento mais rápido do dataset antes de treinar.\n",
    "\n",
    "**4.** Validação de memória antes e depois do treinamento.\n",
    "\n",
    "- Essa validação foi utlilizada para que eu tivesse uma noção do quanto de memória o meu treinamento estava utilizando de acordo com os parâmetros passados.\n",
    "\n",
    "**5.** Realização do treinamento.\n",
    "\n",
    "- Inicia o treinamento do modelo com o dataset que foi passado.\n",
    "\n",
    "**6.** Realização da avaliação do modelo.\n",
    "\n",
    "- Após o treinamento eu realizo uma avaliação do modelo para ter uma ideia de como ficou o desempenho para os dados não vistos durante o treinamento.\n",
    "\n",
    "**7.** Salvar o modelo.\n",
    "- Por último é realizado a gravação do modelo em uma pasta."
   ]
  },
  {
   "cell_type": "code",
   "execution_count": 6,
   "metadata": {},
   "outputs": [],
   "source": [
    "# Função que treina o modelo\n",
    "def treinar_modelo(trainingArguments):\n",
    "    # Limpar a memória da GPU\n",
    "    torch.cuda.empty_cache()\n",
    "    gc.collect()\n",
    "    \n",
    "    # Inicialização do modelo e tokenizer\n",
    "    model, tokenizer = iniciar_modelo()\n",
    "    \n",
    "    # Criar o SFTTrainer\n",
    "    trainer = SFTTrainer(\n",
    "        model=model,\n",
    "        tokenizer=tokenizer,\n",
    "        train_dataset=dataset_treino,\n",
    "        eval_dataset=dataset_teste,\n",
    "        dataset_text_field=\"text\",\n",
    "        max_seq_length=max_seq_length,\n",
    "        dataset_num_proc=8,  # Multiprocessamento\n",
    "        packing=False,  # Se necessário para sequências curtas\n",
    "        args=trainingArguments\n",
    "    )\n",
    "    \n",
    "    # Verificar a memória da GPU antes do treinamento\n",
    "    gpu_stats = torch.cuda.get_device_properties(0)\n",
    "    start_gpu_memory = round(torch.cuda.max_memory_reserved() / 1024 / 1024 / 1024, 3)\n",
    "    max_memory = round(gpu_stats.total_memory / 1024 / 1024 / 1024, 3)\n",
    "    print(f\"GPU = {gpu_stats.name}. Max memory = {max_memory} GB.\")\n",
    "    print(f\"{start_gpu_memory} GB of memory reserved.\")\n",
    "    \n",
    "    # Iniciar o treinamento\n",
    "    trainer_stats = trainer.train()\n",
    "    \n",
    "    # Verificar a memória da GPU após o treinamento\n",
    "    used_memory = round(torch.cuda.max_memory_reserved() / 1024 / 1024 / 1024, 3)\n",
    "    used_memory_for_lora = round(used_memory - start_gpu_memory, 3)\n",
    "    used_percentage = round(used_memory / max_memory * 100, 3)\n",
    "    lora_percentage = round(used_memory_for_lora / max_memory * 100, 3)\n",
    "    print(f\"{trainer_stats.metrics['train_runtime']} seconds used for training.\")\n",
    "    print(f\"{round(trainer_stats.metrics['train_runtime'] / 60, 2)} minutes used for training.\")\n",
    "    print(f\"Peak reserved memory = {used_memory} GB.\")\n",
    "    print(f\"Peak reserved memory for training = {used_memory_for_lora} GB.\")\n",
    "    print(f\"Peak reserved memory % of max memory = {used_percentage} %.\")\n",
    "    print(f\"Peak reserved memory for training % of max memory = {lora_percentage} %.\")\n",
    "    \n",
    "    # Avaliar o modelo no dataset de avaliação\n",
    "    eval_results = trainer.evaluate()\n",
    "\n",
    "    # Exibir os resultados da avaliação\n",
    "    print(\"Resultados da Avaliação:\", eval_results)\n",
    "    \n",
    "    # Salvar o modelo treinado\n",
    "    trainer.save_model('./model/lora_model')\n",
    "    tokenizer.save_pretrained('./model/lora_model')\n",
    "    print(\"Modelo salvo com sucesso!\")"
   ]
  },
  {
   "cell_type": "markdown",
   "metadata": {},
   "source": [
    "**Argumentos de treinamento**\n",
    "\n",
    "Durante alguns dias fui realizando testes relacionados aos parâmetros:\n",
    "- *per_device_train_batch_size*\n",
    "- *gradiente_accumultation_steps*\n",
    "- *warmup_steps*\n",
    "- *learning_rate*\n",
    "- *weight_decay*\n",
    "\n",
    "Para poder encontrar um balanceamento entre:\n",
    "- **Tempo**\n",
    "- **Uso de GPU**\n",
    "- **Resultado Avaliação**\n",
    "\n",
    "Inicialmente utilizei o max_steps = 60 até encontrar este equilibrio e quando encontrei os parâmetros que me agradaram, que foram os que estão abaixo, rodei 2 épocas para ter certeza de como ficou."
   ]
  },
  {
   "cell_type": "code",
   "execution_count": 7,
   "metadata": {},
   "outputs": [],
   "source": [
    "# Argumentos de treinamento\n",
    "trainingArguments = TrainingArguments(\n",
    "    per_device_train_batch_size=128,\n",
    "    gradient_accumulation_steps=2,\n",
    "    warmup_steps=5,\n",
    "    num_train_epochs=2,\n",
    "    #max_steps=60,\n",
    "    learning_rate=3e-4,\n",
    "    fp16=not is_bfloat16_supported(),\n",
    "    bf16=is_bfloat16_supported(),\n",
    "    logging_steps=100,\n",
    "    optim=\"adamw_8bit\",\n",
    "    weight_decay=0.01,\n",
    "    lr_scheduler_type=\"linear\",\n",
    "    seed=3407,\n",
    "    output_dir=\"outputs\"\n",
    ")"
   ]
  },
  {
   "cell_type": "markdown",
   "metadata": {},
   "source": [
    "**Treinamento**\n",
    "\n",
    "Utilizado para realizar o teste a cada parâmetro do *trainingArguments* alterado."
   ]
  },
  {
   "cell_type": "code",
   "execution_count": 8,
   "metadata": {},
   "outputs": [
    {
     "name": "stdout",
     "output_type": "stream",
     "text": [
      "==((====))==  Unsloth 2024.8: Fast Llama patching. Transformers = 4.43.3.\n",
      "   \\\\   /|    GPU: NVIDIA GeForce RTX 4070 Ti. Max memory: 11.994 GB. Platform = Linux.\n",
      "O^O/ \\_/ \\    Pytorch: 2.3.0+cu121. CUDA = 8.9. CUDA Toolkit = 12.1.\n",
      "\\        /    Bfloat16 = TRUE. FA [Xformers = 0.0.26.post1. FA2 = False]\n",
      " \"-____-\"     Free Apache license: http://github.com/unslothai/unsloth\n"
     ]
    },
    {
     "name": "stderr",
     "output_type": "stream",
     "text": [
      "Unsloth 2024.8 patched 22 layers with 22 QKV layers, 22 O layers and 22 MLP layers.\n"
     ]
    },
    {
     "name": "stdout",
     "output_type": "stream",
     "text": [
      "GPU = NVIDIA GeForce RTX 4070 Ti. Max memory = 11.994 GB.\n",
      "0.787 GB of memory reserved.\n"
     ]
    },
    {
     "name": "stderr",
     "output_type": "stream",
     "text": [
      "==((====))==  Unsloth - 2x faster free finetuning | Num GPUs = 1\n",
      "   \\\\   /|    Num examples = 139,041 | Num Epochs = 2\n",
      "O^O/ \\_/ \\    Batch size per device = 128 | Gradient Accumulation steps = 2\n",
      "\\        /    Total batch size = 256 | Total steps = 1,086\n",
      " \"-____-\"     Number of trainable parameters = 12,615,680\n"
     ]
    },
    {
     "data": {
      "text/html": [
       "\n",
       "    <div>\n",
       "      \n",
       "      <progress value='1086' max='1086' style='width:300px; height:20px; vertical-align: middle;'></progress>\n",
       "      [1086/1086 3:12:35, Epoch 1/2]\n",
       "    </div>\n",
       "    <table border=\"1\" class=\"dataframe\">\n",
       "  <thead>\n",
       " <tr style=\"text-align: left;\">\n",
       "      <th>Step</th>\n",
       "      <th>Training Loss</th>\n",
       "    </tr>\n",
       "  </thead>\n",
       "  <tbody>\n",
       "    <tr>\n",
       "      <td>100</td>\n",
       "      <td>1.726900</td>\n",
       "    </tr>\n",
       "    <tr>\n",
       "      <td>200</td>\n",
       "      <td>1.575000</td>\n",
       "    </tr>\n",
       "    <tr>\n",
       "      <td>300</td>\n",
       "      <td>1.557400</td>\n",
       "    </tr>\n",
       "    <tr>\n",
       "      <td>400</td>\n",
       "      <td>1.547600</td>\n",
       "    </tr>\n",
       "    <tr>\n",
       "      <td>500</td>\n",
       "      <td>1.536300</td>\n",
       "    </tr>\n",
       "    <tr>\n",
       "      <td>600</td>\n",
       "      <td>1.515800</td>\n",
       "    </tr>\n",
       "    <tr>\n",
       "      <td>700</td>\n",
       "      <td>1.506000</td>\n",
       "    </tr>\n",
       "    <tr>\n",
       "      <td>800</td>\n",
       "      <td>1.497600</td>\n",
       "    </tr>\n",
       "    <tr>\n",
       "      <td>900</td>\n",
       "      <td>1.494200</td>\n",
       "    </tr>\n",
       "    <tr>\n",
       "      <td>1000</td>\n",
       "      <td>1.490600</td>\n",
       "    </tr>\n",
       "  </tbody>\n",
       "</table><p>"
      ],
      "text/plain": [
       "<IPython.core.display.HTML object>"
      ]
     },
     "metadata": {},
     "output_type": "display_data"
    },
    {
     "name": "stdout",
     "output_type": "stream",
     "text": [
      "11568.8032 seconds used for training.\n",
      "192.81 minutes used for training.\n",
      "Peak reserved memory = 7.35 GB.\n",
      "Peak reserved memory for training = 6.563 GB.\n",
      "Peak reserved memory % of max memory = 61.281 %.\n",
      "Peak reserved memory for training % of max memory = 54.719 %.\n"
     ]
    },
    {
     "data": {
      "text/html": [
       "\n",
       "    <div>\n",
       "      \n",
       "      <progress value='7497' max='7497' style='width:300px; height:20px; vertical-align: middle;'></progress>\n",
       "      [7497/7497 14:13]\n",
       "    </div>\n",
       "    "
      ],
      "text/plain": [
       "<IPython.core.display.HTML object>"
      ]
     },
     "metadata": {},
     "output_type": "display_data"
    },
    {
     "name": "stdout",
     "output_type": "stream",
     "text": [
      "Resultados da Avaliação: {'eval_loss': 1.5033295154571533, 'eval_runtime': 854.2072, 'eval_samples_per_second': 70.21, 'eval_steps_per_second': 8.777, 'epoch': 1.9981600735970562}\n",
      "Modelo salvo com sucesso!\n"
     ]
    }
   ],
   "source": [
    "treinar_modelo(trainingArguments)"
   ]
  }
 ],
 "metadata": {
  "kernelspec": {
   "display_name": "Python 3 (ipykernel)",
   "language": "python",
   "name": "python3"
  },
  "language_info": {
   "codemirror_mode": {
    "name": "ipython",
    "version": 3
   },
   "file_extension": ".py",
   "mimetype": "text/x-python",
   "name": "python",
   "nbconvert_exporter": "python",
   "pygments_lexer": "ipython3",
   "version": "3.10.14"
  }
 },
 "nbformat": 4,
 "nbformat_minor": 2
}
